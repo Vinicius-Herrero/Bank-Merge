{
 "cells": [
  {
   "cell_type": "code",
   "execution_count": 6,
   "metadata": {},
   "outputs": [],
   "source": [
    "import os\n",
    "import pandas as pd\n",
    "import numpy as np\n",
    "import pyodbc\n",
    "from datetime import datetime\n",
    "from sqlalchemy import create_engine"
   ]
  },
  {
   "cell_type": "code",
   "execution_count": null,
   "metadata": {},
   "outputs": [],
   "source": [
    "# Declaração das pastas\n",
    "\n",
    "pasta_itau = r\"desktop\\Extrato\\Itaú\"\n",
    "pasta_Bradesco = r\"desktop\\Extrato\\Bradesco\"\n",
    "pasta_Safra = r\"desktop\\Extrato\\Safra\"\n",
    "pasta_XP = r\"desktop\\Extrato\\XP\"\n",
    "Pasta_BancoDoBrasil = r\"desktop\\Extrato\\Banco do Brasil\""
   ]
  },
  {
   "cell_type": "code",
   "execution_count": 9,
   "metadata": {},
   "outputs": [],
   "source": [
    "# Varíaveis de todos os métodos\n",
    "\n",
    "Colunas = [\"Filial\", \"Banco\", \"Data\", \"Lancamento\", \"DebitoCredito\", \"Valor\", \"Saldo\"]\n",
    "\n",
    "# Colocar o Ano na data\n",
    "ano_atual = datetime.now().year\n",
    "\n",
    "\n",
    "def adicionar_ano(data_str):\n",
    "    if pd.isna(data_str):  # Verificar se o valor é NaN\n",
    "        return None  # Ou outro valor de sua escolha\n",
    "    else:\n",
    "        # Garantir que a string tenha pelo menos dois elementos (dia e mês)\n",
    "        if \"/\" in data_str:\n",
    "            partes = data_str.split(\"/\")\n",
    "            if (\n",
    "                len(partes) == 2\n",
    "            ):  # Verificar se a divisão resultou em 2 partes (dia e mês)\n",
    "                dia, mes = partes\n",
    "                nova_data = f\"{dia}/{mes}/{ano_atual}\"\n",
    "                return nova_data\n",
    "            else:\n",
    "                return None  # Retornar None ou outro valor se o formato não for válido\n",
    "        else:\n",
    "            return None  # Retornar None ou outro valor se não houver '/'\n",
    "\n",
    "\n",
    "data_hoje = datetime.today().strftime(\"%Y-%m-%d\")\n",
    "\n",
    "\n",
    "# Deletar arquivos diretamente\n",
    "# Deletar arquivos de origem\n",
    "\n",
    "\n",
    "def deletar_arquivos(caminho):\n",
    "    try:\n",
    "        # Verificar se o arquivo existe\n",
    "        if os.path.isfile(caminho):\n",
    "            os.remove(caminho)  # Deleta o arquivo\n",
    "            print(f\"Arquivo {caminho} deletado com sucesso.\")\n",
    "        else:\n",
    "            print(f\"O caminho {caminho} não é um arquivo válido.\")\n",
    "    except FileNotFoundError:\n",
    "        print(f\"Arquivo {caminho} não encontrado.\")\n",
    "    except Exception as e:\n",
    "        print(f\"Erro ao tentar deletar o arquivo {caminho}: {e}\")"
   ]
  },
  {
   "cell_type": "code",
   "execution_count": 10,
   "metadata": {},
   "outputs": [
    {
     "name": "stdout",
     "output_type": "stream",
     "text": [
      "A pasta Q:\\COMP_PF\\Arquivos Vinicius\\Extrato\\Itaú está vazia.\n"
     ]
    }
   ],
   "source": [
    "# INÍCIO MÉTODO ITAÚ\n",
    "\n",
    "try:\n",
    "    lista_arquivos_itau = os.listdir(pasta_itau)\n",
    "    if lista_arquivos_itau:\n",
    "        primeiro_arquivo_itau = lista_arquivos_itau[0]\n",
    "        caminho_itau = os.path.join(pasta_itau, primeiro_arquivo_itau)\n",
    "        print(f\"Lendo o arquivo: {caminho_itau}\")\n",
    "    else:\n",
    "        print(f\"A pasta {pasta_itau} está vazia.\")\n",
    "except FileNotFoundError:\n",
    "    print(f\"Diretório não encontrado: {pasta_itau}\")\n",
    "except Exception as e:\n",
    "    print(f\"Ocorreu um erro: {e}\")"
   ]
  },
  {
   "cell_type": "code",
   "execution_count": 11,
   "metadata": {},
   "outputs": [
    {
     "ename": "NameError",
     "evalue": "name 'caminho_itau' is not defined",
     "output_type": "error",
     "traceback": [
      "\u001b[1;31m---------------------------------------------------------------------------\u001b[0m",
      "\u001b[1;31mNameError\u001b[0m                                 Traceback (most recent call last)",
      "Cell \u001b[1;32mIn[11], line 4\u001b[0m\n\u001b[0;32m      1\u001b[0m \u001b[38;5;66;03m# Ajuste de escopo\u001b[39;00m\n\u001b[0;32m      2\u001b[0m \n\u001b[0;32m      3\u001b[0m \u001b[38;5;66;03m# Início e fim das linhas\u001b[39;00m\n\u001b[1;32m----> 4\u001b[0m df_itau \u001b[38;5;241m=\u001b[39m pd\u001b[38;5;241m.\u001b[39mread_html(\u001b[43mcaminho_itau\u001b[49m, header\u001b[38;5;241m=\u001b[39m\u001b[38;5;241m0\u001b[39m, skiprows\u001b[38;5;241m=\u001b[39m\u001b[38;5;241m10\u001b[39m)[\u001b[38;5;241m0\u001b[39m]\n\u001b[0;32m      5\u001b[0m df_itau \u001b[38;5;241m=\u001b[39m df_itau\u001b[38;5;241m.\u001b[39mdropna(axis\u001b[38;5;241m=\u001b[39m\u001b[38;5;241m1\u001b[39m, how\u001b[38;5;241m=\u001b[39m\u001b[38;5;124m\"\u001b[39m\u001b[38;5;124mall\u001b[39m\u001b[38;5;124m\"\u001b[39m)\n\u001b[0;32m      6\u001b[0m df_itau_list \u001b[38;5;241m=\u001b[39m pd\u001b[38;5;241m.\u001b[39mread_html(caminho_itau, header\u001b[38;5;241m=\u001b[39m\u001b[38;5;241m0\u001b[39m)\n",
      "\u001b[1;31mNameError\u001b[0m: name 'caminho_itau' is not defined"
     ]
    }
   ],
   "source": [
    "# Ajuste de escopo\n",
    "\n",
    "# Início e fim das linhas\n",
    "df_itau = pd.read_html(caminho_itau, header=0, skiprows=10)[0]\n",
    "df_itau = df_itau.dropna(axis=1, how=\"all\")\n",
    "df_itau_list = pd.read_html(caminho_itau, header=0)\n",
    "# filtro_itau = df_itau[df_itau['Lançamento'] == 'S A L D O'].index[0]\n",
    "# df_itau = df_itau.iloc[:filtro_itau + 1]\n",
    "df_itau = df_itau[df_itau[\"Lançamento\"] != \"S A L D O\"]\n",
    "df_itau = df_itau.iloc[1:]\n",
    "\n",
    "# Tipos de campos\n",
    "df_itau[\"Data\"] = df_itau[\"Data\"].astype(str)\n",
    "df_itau[\"Valor (R$)\"] = df_itau[\"Valor (R$)\"].fillna(0)\n",
    "df_itau[\"Saldo (R$)\"] = 0"
   ]
  },
  {
   "cell_type": "code",
   "execution_count": null,
   "metadata": {},
   "outputs": [],
   "source": [
    "# Inserir colunas adicionais\n",
    "df_itau[\"Data Completa\"] = df_itau[\"Data\"].apply(adicionar_ano)\n",
    "df_itau[\"Banco\"] = \"Itau\"\n",
    "df_itau[\"DebitoCredito\"] = df_itau[\"Valor (R$)\"].apply(\n",
    "    lambda x: 1 if x < 0 else (2 if x > 0 else 0)\n",
    ")\n",
    "\n",
    "# Remover a coluna 'Data'\n",
    "df_itau = df_itau.drop(columns=[\"Data\"])\n",
    "\n",
    "# Renomear Colunas\n",
    "\n",
    "df_itau = df_itau.rename(\n",
    "    columns={\n",
    "        \"Data Completa\": \"Data\",\n",
    "        \"Lançamento\": \"Lancamento\",\n",
    "        \"Saldo (R$)\": \"Saldo\",\n",
    "        \"Valor (R$)\": \"Valor\",\n",
    "    }\n",
    ")\n",
    "\n",
    "# Ordenar colunas\n",
    "\n",
    "df_itau = df_itau[Colunas]"
   ]
  },
  {
   "cell_type": "code",
   "execution_count": null,
   "metadata": {},
   "outputs": [
    {
     "data": {
      "text/plain": [
       "'try:\\n    lista_arquivos_Bradesco = os.listdir(pasta_Bradesco)\\n    if lista_arquivos_Bradesco:\\n        primeiro_arquivo_Bradesco = lista_arquivos_Bradesco[0]\\nexcept FileNotFoundError:\\n    print(f\"Diretório não encontrado: {pasta_Bradesco}\")\\n    '"
      ]
     },
     "execution_count": 161,
     "metadata": {},
     "output_type": "execute_result"
    }
   ],
   "source": [
    "# INÍCIO MÉTODO BRADESCO\n",
    "try:\n",
    "    lista_arquivos_Bradesco = os.listdir(pasta_Bradesco)\n",
    "    if lista_arquivos_Bradesco:\n",
    "        primeiro_arquivo_Bradesco = lista_arquivos_Bradesco[0]\n",
    "except FileNotFoundError:\n",
    "    print(f\"Diretório não encontrado: {pasta_Bradesco}\")"
   ]
  },
  {
   "cell_type": "code",
   "execution_count": null,
   "metadata": {},
   "outputs": [
    {
     "data": {
      "text/plain": [
       "'caminho_Bradesco = os.path.join(pasta_Bradesco, primeiro_arquivo_Bradesco)\\nprint(f\"Lendo o arquivo: {caminho_Bradesco}\")'"
      ]
     },
     "execution_count": 162,
     "metadata": {},
     "output_type": "execute_result"
    }
   ],
   "source": [
    "caminho_Bradesco = os.path.join(pasta_Bradesco, primeiro_arquivo_Bradesco)\n",
    "print(f\"Lendo o arquivo: {caminho_Bradesco}\")"
   ]
  },
  {
   "cell_type": "code",
   "execution_count": null,
   "metadata": {},
   "outputs": [
    {
     "data": {
      "text/plain": [
       "\"import pandas as pd\\n\\n# Ajuste de escopo\\n\\n# Início e fim das linhas\\ndf_Bradesco = pd.read_excel(caminho_Bradesco, header=0, skiprows=8)\\nfiltro_bradesco = df_Bradesco[df_Bradesco['Data'] == 'Total'].index[0]\\ndf_Bradesco = df_Bradesco.iloc[:filtro_bradesco + 1]\\ndf_Bradesco = df_Bradesco[df_Bradesco['Data'] != 'Total']\\ndf_Bradesco = df_Bradesco.iloc[1:]\\n\\n# Tipos de campos\\n\\n# Primeiro, substitua os pontos e vírgulas nas strings\\ndf_Bradesco['Crédito (R$)'] = df_Bradesco['Crédito (R$)'].astype(str).str.replace('.', '', regex=False)\\ndf_Bradesco['Crédito (R$)'] = df_Bradesco['Crédito (R$)'].str.replace(',', '.', regex=False)\\ndf_Bradesco['Débito (R$)'] = df_Bradesco['Débito (R$)'].astype(str).str.replace('.', '', regex=False)\\ndf_Bradesco['Débito (R$)'] = df_Bradesco['Débito (R$)'].str.replace(',', '.', regex=False)\\ndf_Bradesco['Saldo (R$)'] = df_Bradesco['Saldo (R$)'].astype(str).str.replace('.', '', regex=False)\\ndf_Bradesco['Saldo (R$)'] = df_Bradesco['Saldo (R$)'].str.replace(',', '.', regex=False)\\n\\n# Agora, converta as colunas para numéricas\\ndf_Bradesco['Crédito (R$)'] = pd.to_numeric(df_Bradesco['Crédito (R$)'], errors='coerce')\\ndf_Bradesco['Débito (R$)'] = pd.to_numeric(df_Bradesco['Débito (R$)'], errors='coerce')\\ndf_Bradesco['Saldo (R$)'] = pd.to_numeric(df_Bradesco['Saldo (R$)'], errors='coerce')\""
      ]
     },
     "execution_count": 163,
     "metadata": {},
     "output_type": "execute_result"
    }
   ],
   "source": [
    "# Ajuste de escopo\n",
    "\n",
    "# Início e fim das linhas\n",
    "df_Bradesco = pd.read_excel(caminho_Bradesco, header=0, skiprows=8)\n",
    "filtro_bradesco = df_Bradesco[df_Bradesco['Data'] == 'Total'].index[0]\n",
    "df_Bradesco = df_Bradesco.iloc[:filtro_bradesco + 1]\n",
    "df_Bradesco = df_Bradesco[df_Bradesco['Data'] != 'Total']\n",
    "df_Bradesco = df_Bradesco.iloc[1:]\n",
    "\n",
    "# Tipos de campos\n",
    "\n",
    "# Primeiro, substitua os pontos e vírgulas nas strings\n",
    "df_Bradesco['Crédito (R$)'] = df_Bradesco['Crédito (R$)'].astype(str).str.replace('.', '', regex=False)\n",
    "df_Bradesco['Crédito (R$)'] = df_Bradesco['Crédito (R$)'].str.replace(',', '.', regex=False)\n",
    "df_Bradesco['Débito (R$)'] = df_Bradesco['Débito (R$)'].astype(str).str.replace('.', '', regex=False)\n",
    "df_Bradesco['Débito (R$)'] = df_Bradesco['Débito (R$)'].str.replace(',', '.', regex=False)\n",
    "df_Bradesco['Saldo (R$)'] = df_Bradesco['Saldo (R$)'].astype(str).str.replace('.', '', regex=False)\n",
    "df_Bradesco['Saldo (R$)'] = df_Bradesco['Saldo (R$)'].str.replace(',', '.', regex=False)\n",
    "\n",
    "# Agora, converta as colunas para numéricas\n",
    "df_Bradesco['Crédito (R$)'] = pd.to_numeric(df_Bradesco['Crédito (R$)'], errors='coerce')\n",
    "df_Bradesco['Débito (R$)'] = pd.to_numeric(df_Bradesco['Débito (R$)'], errors='coerce')\n",
    "df_Bradesco['Saldo (R$)'] = pd.to_numeric(df_Bradesco['Saldo (R$)'], errors='coerce')"
   ]
  },
  {
   "cell_type": "code",
   "execution_count": null,
   "metadata": {},
   "outputs": [
    {
     "data": {
      "text/plain": [
       "'df_Bradesco[\\'Banco\\'] = \"Bradesco\"\\ndf_Bradesco[\\'DebitoCredito\\'] = df_Bradesco.apply(lambda row: 2 if row[\\'Crédito (R$)\\'] > 0 else (1 if row[\\'Débito (R$)\\'] < 0 else 0), axis=1)\\ndf_Bradesco[\\'Valor\\'] = df_Bradesco[\\'Crédito (R$)\\'].fillna(0) + df_Bradesco[\\'Débito (R$)\\'].fillna(0)\\ndf_Bradesco[\\'Filial\\'] = atribuir_filial(caminho_Bradesco)\\ndf_Bradesco = df_Bradesco.drop(columns=[\\'Dcto.\\', \\'Débito (R$)\\', \\'Crédito (R$)\\'])\\n\\ndf_Bradesco = df_Bradesco.rename(columns={\\'Lançamento\\': \\'Lancamento\\',\\n\\'Saldo (R$)\\': \\'Saldo\\'\\n})\\n\\ndf_Bradesco = df_Bradesco[Colunas]\\n'"
      ]
     },
     "execution_count": 165,
     "metadata": {},
     "output_type": "execute_result"
    }
   ],
   "source": [
    "# Inserir colunas adicionais\n",
    "df_Bradesco['Banco'] = \"Bradesco\"\n",
    "df_Bradesco['DebitoCredito'] = df_Bradesco.apply(lambda row: 2 if row['Crédito (R$)'] > 0 else (1 if row['Débito (R$)'] < 0 else 0), axis=1)\n",
    "df_Bradesco['Valor'] = df_Bradesco['Crédito (R$)'].fillna(0) + df_Bradesco['Débito (R$)'].fillna(0)\n",
    "df_Bradesco = df_Bradesco.drop(columns=['Dcto.', 'Débito (R$)', 'Crédito (R$)'])\n",
    "\n",
    "df_Bradesco = df_Bradesco.rename(columns={'Lançamento': 'Lancamento',\n",
    "'Saldo (R$)': 'Saldo'\n",
    "})\n",
    "\n",
    "df_Bradesco = df_Bradesco[Colunas]\n",
    "\n",
    "# Fim Metodo Bradesco"
   ]
  },
  {
   "cell_type": "code",
   "execution_count": null,
   "metadata": {},
   "outputs": [
    {
     "data": {
      "text/plain": [
       "'\\ntry:\\n    lista_arquivos_Safra = os.listdir(pasta_Safra)\\n    if lista_arquivos_Safra:\\n        primeiro_arquivo_Safra = lista_arquivos_Safra[0]\\nexcept FileNotFoundError:\\n    print(f\"Diretório não encontrado: {pasta_Safra}\")\\n    \\n    '"
      ]
     },
     "execution_count": 166,
     "metadata": {},
     "output_type": "execute_result"
    }
   ],
   "source": [
    "# INÍCIO MÉTODO SAFRA\n",
    "\n",
    "try:\n",
    "    lista_arquivos_Safra = os.listdir(pasta_Safra)\n",
    "    if lista_arquivos_Safra:\n",
    "        primeiro_arquivo_Safra = lista_arquivos_Safra[0]\n",
    "except FileNotFoundError:\n",
    "    print(f\"Diretório não encontrado: {pasta_Safra}\")\n",
    "    \n",
    "    "
   ]
  },
  {
   "cell_type": "code",
   "execution_count": null,
   "metadata": {},
   "outputs": [
    {
     "data": {
      "text/plain": [
       "'caminho_Safra = os.path.join(pasta_Safra, primeiro_arquivo_Safra)\\nprint(f\"Lendo o arquivo: {caminho_Safra}\")'"
      ]
     },
     "execution_count": 167,
     "metadata": {},
     "output_type": "execute_result"
    }
   ],
   "source": [
    "caminho_Safra = os.path.join(pasta_Safra, primeiro_arquivo_Safra)\n",
    "print(f\"Lendo o arquivo: {caminho_Safra}\")"
   ]
  },
  {
   "cell_type": "code",
   "execution_count": null,
   "metadata": {},
   "outputs": [
    {
     "data": {
      "text/plain": [
       "\"\\ndf_Safra = pd.read_html(caminho_Safra, header=None)\\ndf_Safra = df_Safra.iloc[:, :8] \\ndf_Safra = df_Safra.iloc[12:].reset_index(drop=True)\\ndf_Safra.columns = ['Data', 'Situação', 'Tipo do Lançamento', 'Lançamento', 'Complemento', 'Nº Documento', 'Valor', 'Saldo']\\n\\n#Início e fim das linhas\\ndf_Safra = df_Safra[~df_Safra['Lançamento'].isin(['SALDO INICIAL', 'SALDO TOTAL'])]\\ndf_Safra = df_Safra.dropna(subset=['Data'])\\n\\n# Substituir valores vazios (NaN) nas colunas 'Valor' e 'Saldo' por 0\\ndf_Safra['Valor'] = df_Safra['Valor'].fillna(0)\\ndf_Safra['Saldo'] = df_Safra['Saldo'].fillna(0)\\n\""
      ]
     },
     "execution_count": 168,
     "metadata": {},
     "output_type": "execute_result"
    }
   ],
   "source": [
    "# Ajuste do escopo\n",
    "\n",
    "df_Safra = pd.read_html(caminho_Safra, header=None)\n",
    "df_Safra = df_Safra.iloc[:, :8] \n",
    "df_Safra = df_Safra.iloc[12:].reset_index(drop=True)\n",
    "df_Safra.columns = ['Data', 'Situação', 'Tipo do Lançamento', 'Lançamento', 'Complemento', 'Nº Documento', 'Valor', 'Saldo']\n",
    "\n",
    "#Início e fim das linhas\n",
    "df_Safra = df_Safra[~df_Safra['Lançamento'].isin(['SALDO INICIAL', 'SALDO TOTAL'])]\n",
    "df_Safra = df_Safra.dropna(subset=['Data'])\n",
    "\n",
    "# Substituir valores vazios (NaN) nas colunas 'Valor' e 'Saldo' por 0\n",
    "df_Safra['Valor'] = df_Safra['Valor'].fillna(0)\n",
    "df_Safra['Saldo'] = df_Safra['Saldo'].fillna(0)\n"
   ]
  },
  {
   "cell_type": "code",
   "execution_count": null,
   "metadata": {},
   "outputs": [
    {
     "data": {
      "text/plain": [
       "'# Inserir colunas adicionais\\ndf_Safra[\\'Data Completa\\'] = df_Safra[\\'Data\\'].apply(adicionar_ano)\\ndf_Safra[\\'Banco\\'] = \"Safra\"\\ndf_Safra[\\'DebitoCredito\\'] = df_Safra[\\'Tipo do Lançamento\\'].apply(lambda x: 1 if x == \\'Débito\\' else (2 if x == \\'Crédito\\' else 0))\\ndf_Safra[\\'Filial\\'] = atribuir_filial(caminho_Safra)\\n\\ndf_Safra = df_Safra.drop(columns=[\\'Data\\', \\'Situação\\', \\'Tipo do Lançamento\\', \\'Nº Documento\\',\\'Lançamento\\'])\\n\\ndf_Safra = df_Safra.rename(columns={\\'Data Completa\\': \\'Data\\',\\'Complemento\\': \\'Lancamento\\'})\\n\\ndf_Safra = df_Safra[Colunas]\\n\\n# Fim do Metodo Safra'"
      ]
     },
     "execution_count": 170,
     "metadata": {},
     "output_type": "execute_result"
    }
   ],
   "source": [
    "# Inserir colunas adicionais\n",
    "df_Safra['Data Completa'] = df_Safra['Data'].apply(adicionar_ano)\n",
    "df_Safra['Banco'] = \"Safra\"\n",
    "df_Safra['DebitoCredito'] = df_Safra['Tipo do Lançamento'].apply(lambda x: 1 if x == 'Débito' else (2 if x == 'Crédito' else 0))\n",
    "\n",
    "\n",
    "df_Safra = df_Safra.drop(columns=['Data', 'Situação', 'Tipo do Lançamento', 'Nº Documento','Lançamento'])\n",
    "\n",
    "df_Safra = df_Safra.rename(columns={'Data Completa': 'Data','Complemento': 'Lancamento'})\n",
    "\n",
    "df_Safra = df_Safra[Colunas]\n",
    "\n",
    "# Fim do Metodo Safra"
   ]
  },
  {
   "cell_type": "code",
   "execution_count": null,
   "metadata": {},
   "outputs": [
    {
     "data": {
      "text/plain": [
       "'\\ntry:\\n    lista_arquivos_XP = os.listdir(pasta_XP)\\n    if lista_arquivos_XP:\\n        primeiro_arquivo_XP = lista_arquivos_XP[0]\\nexcept FileNotFoundError:\\n    print(f\"Diretório não encontrado: {pasta_XP}\")'"
      ]
     },
     "execution_count": 171,
     "metadata": {},
     "output_type": "execute_result"
    }
   ],
   "source": [
    "# INICIO MÉTODO XP\n",
    "\n",
    "try:\n",
    "    lista_arquivos_XP = os.listdir(pasta_XP)\n",
    "    if lista_arquivos_XP:\n",
    "        primeiro_arquivo_XP = lista_arquivos_XP[0]\n",
    "except FileNotFoundError:\n",
    "    print(f\"Diretório não encontrado: {pasta_XP}\")"
   ]
  },
  {
   "cell_type": "code",
   "execution_count": null,
   "metadata": {},
   "outputs": [
    {
     "data": {
      "text/plain": [
       "'caminho_XP = os.path.join(pasta_XP, primeiro_arquivo_XP)\\nprint(f\"Lendo o arquivo: {caminho_XP}\")'"
      ]
     },
     "execution_count": 172,
     "metadata": {},
     "output_type": "execute_result"
    }
   ],
   "source": [
    "caminho_XP = os.path.join(pasta_XP, primeiro_arquivo_XP)\n",
    "print(f\"Lendo o arquivo: {caminho_XP}\")"
   ]
  },
  {
   "cell_type": "code",
   "execution_count": null,
   "metadata": {},
   "outputs": [
    {
     "data": {
      "text/plain": [
       "\"# Ajuste de escopo\\n\\n# Início e fim das linhas\\ndf_XP = pd.read_excel(caminho_XP, header=0,skiprows=13)\\n\\n\\ndf_XP = df_XP.dropna(axis=1, how='all')\\nfiltro_XP = df_XP[df_XP['Movimentação'] == 'Lançamentos futuros'].index[0]\\ndf_XP = df_XP.iloc[:filtro_XP - 1]\\ndf_XP = df_XP.dropna(axis=1, how='all')\""
      ]
     },
     "execution_count": 173,
     "metadata": {},
     "output_type": "execute_result"
    }
   ],
   "source": [
    "# Ajuste de escopo\n",
    "\n",
    "# Início e fim das linhas\n",
    "df_XP = pd.read_excel(caminho_XP, header=0,skiprows=13)\n",
    "\n",
    "\n",
    "df_XP = df_XP.dropna(axis=1, how='all')\n",
    "filtro_XP = df_XP[df_XP['Movimentação'] == 'Lançamentos futuros'].index[0]\n",
    "df_XP = df_XP.iloc[:filtro_XP - 1]\n",
    "df_XP = df_XP.dropna(axis=1, how='all')"
   ]
  },
  {
   "cell_type": "code",
   "execution_count": null,
   "metadata": {},
   "outputs": [
    {
     "data": {
      "text/plain": [
       "'# Inserir colunas adicionais\\n\\ndf_XP[\\'Banco\\'] = \"XP\"\\ndf_XP[\\'DebitoCredito\\'] = df_XP[\\'Valor (R$)\\'].apply(lambda x: 1 if x < 0 else (2 if x > 0 else 0))\\ndf_XP[\\'Filial\\'] = atribuir_filial(caminho_XP)\\n\\n# Remover a colunas\\ndf_XP = df_XP.drop(columns=[\\'Movimentação\\'])\\n\\n# Renomear Colunas\\ndf_XP = df_XP.rename(columns={\\n    \\'Liquidação\\': \\'Data\\',\\n    \\'Lançamento\\': \\'Lancamento\\',\\n    \\'Saldo (R$)\\': \\'Saldo\\',\\n    \\'Valor (R$)\\': \\'Valor\\'\\n})\\ndf_XP = df_XP[Colunas]\\n\\n# Fim Método XP\\n'"
      ]
     },
     "execution_count": 175,
     "metadata": {},
     "output_type": "execute_result"
    }
   ],
   "source": [
    "# Inserir colunas adicionais\n",
    "\n",
    "df_XP['Banco'] = \"XP\"\n",
    "df_XP['DebitoCredito'] = df_XP['Valor (R$)'].apply(lambda x: 1 if x < 0 else (2 if x > 0 else 0))\n",
    "\n",
    "# Remover a colunas\n",
    "df_XP = df_XP.drop(columns=['Movimentação'])\n",
    "\n",
    "# Renomear Colunas\n",
    "df_XP = df_XP.rename(columns={\n",
    "    'Liquidação': 'Data',\n",
    "    'Lançamento': 'Lancamento',\n",
    "    'Saldo (R$)': 'Saldo',\n",
    "    'Valor (R$)': 'Valor'\n",
    "})\n",
    "df_XP = df_XP[Colunas]\n",
    "\n",
    "# Fim Método XP\n"
   ]
  },
  {
   "cell_type": "code",
   "execution_count": null,
   "metadata": {},
   "outputs": [
    {
     "data": {
      "text/plain": [
       "'try:\\n    lista_arquivos_BancoDoBrasil = os.listdir(Pasta_BancoDoBrasil)\\n    if lista_arquivos_BancoDoBrasil:\\n        primeiro_arquivo_BancoDoBrasil = lista_arquivos_BancoDoBrasil[0]\\nexcept FileNotFoundError:\\n    print(f\"Diretório não encontrado: {Pasta_BancoDoBrasil}\")'"
      ]
     },
     "execution_count": 176,
     "metadata": {},
     "output_type": "execute_result"
    }
   ],
   "source": [
    "# Inicio Metodo Banco do Brasil\n",
    "try:\n",
    "    lista_arquivos_BancoDoBrasil = os.listdir(Pasta_BancoDoBrasil)\n",
    "    if lista_arquivos_BancoDoBrasil:\n",
    "        primeiro_arquivo_BancoDoBrasil = lista_arquivos_BancoDoBrasil[0]\n",
    "except FileNotFoundError:\n",
    "    print(f\"Diretório não encontrado: {Pasta_BancoDoBrasil}\")"
   ]
  },
  {
   "cell_type": "code",
   "execution_count": null,
   "metadata": {},
   "outputs": [
    {
     "data": {
      "text/plain": [
       "'caminho_BancoDoBrasil = os.path.join(Pasta_BancoDoBrasil, primeiro_arquivo_BancoDoBrasil)\\nprint(f\"Lendo o arquivo: {caminho_BancoDoBrasil}\")'"
      ]
     },
     "execution_count": 177,
     "metadata": {},
     "output_type": "execute_result"
    }
   ],
   "source": [
    "caminho_BancoDoBrasil = os.path.join(Pasta_BancoDoBrasil, primeiro_arquivo_BancoDoBrasil)\n",
    "print(f\"Lendo o arquivo: {caminho_BancoDoBrasil}\")"
   ]
  },
  {
   "cell_type": "code",
   "execution_count": null,
   "metadata": {},
   "outputs": [
    {
     "data": {
      "text/plain": [
       "\"\\n# Carregar o DataFrame\\ndf_BancoDoBrasil = pd.read_excel(caminho_BancoDoBrasil, header=0, skiprows=2)\\n\\n# Filtrar as linhas onde 'Lote' não é igual a 0\\ndf_BancoDoBrasil = df_BancoDoBrasil[df_BancoDoBrasil['Lote'] != 0]\\n\\n\""
      ]
     },
     "execution_count": 178,
     "metadata": {},
     "output_type": "execute_result"
    }
   ],
   "source": [
    "# Ajuste de escopo\n",
    "\n",
    "# Carregar o DataFrame\n",
    "df_BancoDoBrasil = pd.read_excel(caminho_BancoDoBrasil, header=0, skiprows=2)\n",
    "\n",
    "# Filtrar as linhas onde 'Lote' não é igual a 0\n",
    "df_BancoDoBrasil = df_BancoDoBrasil[df_BancoDoBrasil['Lote'] != 0]\n",
    "\n"
   ]
  },
  {
   "cell_type": "code",
   "execution_count": null,
   "metadata": {},
   "outputs": [
    {
     "data": {
      "text/plain": [
       "'\\n#Adicionar colunas\\ndf_BancoDoBrasil[\\'Banco\\'] = \"Banco Do Brasil\"\\ndf_BancoDoBrasil[\\'DebitoCredito\\'] = df_BancoDoBrasil[\\'Inf.\\'].apply(lambda x: 1 if x == \\'D\\' else (2 if x == \\'C\\' else 0))\\ndf_BancoDoBrasil[\\'Filial\\'] = atribuir_filial(caminho_BancoDoBrasil)\\ndf_BancoDoBrasil[\\'Saldo\\'] = 0\\n\\n# Remover a colunas\\ndf_BancoDoBrasil = df_BancoDoBrasil.drop(columns=[\\'observacao\\',\\'Data balancete\\',\\'Agencia Origem\\',\\'Lote\\',\\'Numero Documento\\',\\'Cod. Historico\\',\\'Inf.\\',\\'Detalhamento Hist.\\'])\\n\\n# Renomear Colunas\\ndf_BancoDoBrasil = df_BancoDoBrasil.rename(columns={\\n    \\'Historico\\': \\'Lancamento\\',\\n    \\'Valor R$ \\': \\'Valor\\',\\n})\\ndf_BancoDoBrasil[\\'Valor\\'] = df_BancoDoBrasil[\\'Valor\\'].str.replace(\\'.\\', \\'\\', regex=False)\\ndf_BancoDoBrasil[\\'Valor\\'] = df_BancoDoBrasil[\\'Valor\\'].str.replace(\\',\\', \\'.\\', regex=False)\\ndf_BancoDoBrasil[\\'Valor\\'] = df_BancoDoBrasil[\\'Valor\\'].astype(float)  # Converte para float\\ndf_BancoDoBrasil = df_BancoDoBrasil[Colunas]\\n\\n'"
      ]
     },
     "execution_count": 180,
     "metadata": {},
     "output_type": "execute_result"
    }
   ],
   "source": [
    "\n",
    "#Adicionar colunas\n",
    "df_BancoDoBrasil['Banco'] = \"Banco Do Brasil\"\n",
    "df_BancoDoBrasil['DebitoCredito'] = df_BancoDoBrasil['Inf.'].apply(lambda x: 1 if x == 'D' else (2 if x == 'C' else 0))\n",
    "df_BancoDoBrasil['Saldo'] = 0\n",
    "\n",
    "# Remover a colunas\n",
    "df_BancoDoBrasil = df_BancoDoBrasil.drop(columns=['observacao','Data balancete','Agencia Origem','Lote','Numero Documento','Cod. Historico','Inf.','Detalhamento Hist.'])\n",
    "\n",
    "# Renomear Colunas\n",
    "df_BancoDoBrasil = df_BancoDoBrasil.rename(columns={\n",
    "    'Historico': 'Lancamento',\n",
    "    'Valor R$ ': 'Valor',\n",
    "})\n",
    "df_BancoDoBrasil['Valor'] = df_BancoDoBrasil['Valor'].str.replace('.', '', regex=False)\n",
    "df_BancoDoBrasil['Valor'] = df_BancoDoBrasil['Valor'].str.replace(',', '.', regex=False)\n",
    "df_BancoDoBrasil['Valor'] = df_BancoDoBrasil['Valor'].astype(float)  # Converte para float\n",
    "df_BancoDoBrasil = df_BancoDoBrasil[Colunas]\n",
    "\n"
   ]
  },
  {
   "cell_type": "code",
   "execution_count": null,
   "metadata": {},
   "outputs": [
    {
     "name": "stdout",
     "output_type": "stream",
     "text": [
      "Arquivo salvo com sucesso em extrato_processado_2025-02-24.xlsx\n"
     ]
    }
   ],
   "source": [
    "# Concatenar os dois DataFrames\n",
    "# df_completo = pd.concat([df_Bradesco, df_itau,df_Safra,df_XP,df_BancoDoBrasil], ignore_index=True)\n",
    "df_completo = pd.concat([df_itau], ignore_index=True)\n",
    "\n",
    "# Aplicar o cabeçalho da variável 'Colunas'\n",
    "df_completo.columns = Colunas\n",
    "\n",
    "# Caminho do arquivo de saída\n",
    "output_file = f\"extrato_processado_{data_hoje}.xlsx\"\n",
    "\n",
    "# Salvar o DataFrame concatenado no Excel\n",
    "df_completo.to_excel(output_file, index=False)\n",
    "\n",
    "print(f\"Arquivo salvo com sucesso em {output_file}\")"
   ]
  },
  {
   "cell_type": "code",
   "execution_count": null,
   "metadata": {},
   "outputs": [],
   "source": [
    "# Ajuste de coluna com valor nulo\n",
    "df_completo[\"Lancamento\"] = df_completo[\"Lancamento\"].apply(\n",
    "    lambda x: None if pd.isna(x) or x == \"\" else x\n",
    ")\n",
    "df_completo[\"Lancamento\"] = df_completo[\"Lancamento\"].astype(str)\n",
    "df_completo[\"data_hora\"] = datetime.now()"
   ]
  },
  {
   "cell_type": "code",
   "execution_count": null,
   "metadata": {},
   "outputs": [
    {
     "name": "stdout",
     "output_type": "stream",
     "text": [
      "Arquivo Q:\\COMP_PF\\Arquivos Vinicius\\Extrato\\Itaú\\extrato 99890SP 01-02 A 11-02 SP.xls deletado com sucesso.\n",
      "Arquivo Q:\\COMP_PF\\Arquivos Vinicius\\Extrato\\Pagamentos\\ConsultaPagamentos 99890-4 SP 01-02 A 11-02 SP.xls deletado com sucesso.\n"
     ]
    }
   ],
   "source": [
    "# Deletar arquivos base\n",
    "deletar_arquivos(caminho_Safra)\n",
    "deletar_arquivos(caminho_Bradesco)\n",
    "deletar_arquivos(caminho_XP)\n",
    "deletar_arquivos(caminho_BancoDoBrasil)\n",
    "deletar_arquivos(caminho_itau)"
   ]
  }
 ],
 "metadata": {
  "kernelspec": {
   "display_name": "Python 3",
   "language": "python",
   "name": "python3"
  },
  "language_info": {
   "codemirror_mode": {
    "name": "ipython",
    "version": 3
   },
   "file_extension": ".py",
   "mimetype": "text/x-python",
   "name": "python",
   "nbconvert_exporter": "python",
   "pygments_lexer": "ipython3",
   "version": "3.13.2"
  }
 },
 "nbformat": 4,
 "nbformat_minor": 2
}
